{
 "cells": [
  {
   "cell_type": "code",
   "execution_count": 1,
   "metadata": {},
   "outputs": [],
   "source": [
    "import numpy as np \n",
    "import pandas as pd \n",
    "from sklearn.model_selection import train_test_split"
   ]
  },
  {
   "cell_type": "code",
   "execution_count": 2,
   "metadata": {},
   "outputs": [],
   "source": [
    "WineQualityDf = pd.read_csv(\"../data/WineQualityDf_cleaned.csv\")\n",
    "WineQualityDf = WineQualityDf.drop(\"Unnamed: 0\", axis=1)\n",
    "\n",
    "X_matrix = WineQualityDf.drop(\"quality\", axis=1).to_numpy()\n",
    "y = WineQualityDf[\"quality\"].to_numpy()"
   ]
  },
  {
   "cell_type": "markdown",
   "metadata": {},
   "source": [
    "# Separating data into traning and testing datasets"
   ]
  },
  {
   "cell_type": "code",
   "execution_count": 3,
   "metadata": {},
   "outputs": [],
   "source": [
    "X_train, X_test, y_train, y_test = train_test_split(X_matrix, y, test_size=0.2, random_state=62)\n",
    "\n",
    "ones_column_train = np.ones(X_train.shape[0])\n",
    "ones_column_train = ones_column_train.reshape((X_train.shape[0],1))\n",
    "X_train = np.hstack((ones_column_train, X_train))\n",
    "\n",
    "ones_column_test = np.ones(X_test.shape[0])\n",
    "ones_column_test = ones_column_test.reshape((X_test.shape[0],1))\n",
    "X_test = np.hstack((ones_column_test, X_test))"
   ]
  },
  {
   "cell_type": "code",
   "execution_count": 4,
   "metadata": {},
   "outputs": [
    {
     "data": {
      "text/plain": [
       "array([[ 1.  , 11.1 ,  0.18, ...,  3.22,  0.64, 10.1 ],\n",
       "       [ 1.  , 11.6 ,  0.41, ...,  3.13,  0.53, 10.  ],\n",
       "       [ 1.  , 11.5 ,  0.45, ...,  3.26,  1.11, 11.  ],\n",
       "       ...,\n",
       "       [ 1.  ,  6.8 ,  0.48, ...,  3.34,  0.6 , 10.4 ],\n",
       "       [ 1.  ,  8.1 ,  1.33, ...,  3.54,  0.48, 10.9 ],\n",
       "       [ 1.  ,  7.7 ,  0.18, ...,  3.37,  0.78, 11.8 ]])"
      ]
     },
     "execution_count": 4,
     "metadata": {},
     "output_type": "execute_result"
    }
   ],
   "source": [
    "X_train"
   ]
  },
  {
   "cell_type": "markdown",
   "metadata": {},
   "source": [
    "## Model training"
   ]
  },
  {
   "cell_type": "code",
   "execution_count": 7,
   "metadata": {},
   "outputs": [
    {
     "data": {
      "text/plain": [
       "array([ 6.74370143e+00,  1.31175071e-02, -1.15799614e+00, -2.07245472e-01,\n",
       "       -8.19955630e-03, -1.17109425e+00,  3.90508567e-03, -3.20319979e-03,\n",
       "       -2.16337341e+00, -5.48623572e-01,  8.20808533e-01,  2.96205162e-01])"
      ]
     },
     "execution_count": 7,
     "metadata": {},
     "output_type": "execute_result"
    }
   ],
   "source": [
    "coefficients = (np.linalg.inv(X_train.T @ X_train)) @ X_train.T @ y_train\n",
    "coefficients"
   ]
  },
  {
   "cell_type": "code",
   "execution_count": 13,
   "metadata": {},
   "outputs": [],
   "source": [
    "def get_coeff(X, y, n):\n",
    "    coeff_distributions = []\n",
    "    for i in range(0, n):\n",
    "        X_train, X_test, y_train, y_test = train_test_split(X, y, test_size=0.2, random_state=i)\n",
    "\n",
    "        ones_column_train = np.ones(X_train.shape[0])\n",
    "        ones_column_train = ones_column_train.reshape((X_train.shape[0],1))\n",
    "        X_train = np.hstack((ones_column_train, X_train))\n",
    "\n",
    "        ones_column_test = np.ones(X_test.shape[0])\n",
    "        ones_column_test = ones_column_test.reshape((X_test.shape[0],1))\n",
    "        X_test = np.hstack((ones_column_test, X_test))\n",
    "\n",
    "        coefficients = (np.linalg.inv(X_train.T @ X_train)) @ X_train.T @ y_train\n",
    "        coeff_distributions.append(list(coefficients))\n",
    "    coeff_distributions = np.array(coeff_distributions)\n",
    "\n",
    "    return coeff_distributions\n"
   ]
  },
  {
   "cell_type": "code",
   "execution_count": 37,
   "metadata": {},
   "outputs": [],
   "source": [
    "N = 40000\n",
    "coeff_distributions = get_coeff(X_matrix, y, N).T"
   ]
  },
  {
   "cell_type": "code",
   "execution_count": 39,
   "metadata": {},
   "outputs": [],
   "source": [
    "for coeff in coeff_distributions:\n",
    "    coeff_value = np.mean(coeff)\n",
    "    coeff_ste = np.std(coeff) / len(X_train)**(0.5)\n",
    "    coeff_t = coeff_value / coeff_ste\n"
   ]
  },
  {
   "cell_type": "code",
   "execution_count": null,
   "metadata": {},
   "outputs": [],
   "source": []
  }
 ],
 "metadata": {
  "kernelspec": {
   "display_name": "Python 3",
   "language": "python",
   "name": "python3"
  },
  "language_info": {
   "codemirror_mode": {
    "name": "ipython",
    "version": 3
   },
   "file_extension": ".py",
   "mimetype": "text/x-python",
   "name": "python",
   "nbconvert_exporter": "python",
   "pygments_lexer": "ipython3",
   "version": "3.11.2"
  }
 },
 "nbformat": 4,
 "nbformat_minor": 2
}
